{
  "nbformat": 4,
  "nbformat_minor": 0,
  "metadata": {
    "colab": {
      "name": "trapecio software",
      "provenance": [],
      "collapsed_sections": []
    },
    "kernelspec": {
      "name": "python3",
      "display_name": "Python 3"
    },
    "language_info": {
      "name": "python"
    }
  },
  "cells": [
    {
      "cell_type": "code",
      "metadata": {
        "colab": {
          "base_uri": "https://localhost:8080/"
        },
        "id": "YBIECYDNQ6Sz",
        "outputId": "cbdd32a1-c0b7-4e39-ac5f-cc96a561bed8"
      },
      "source": [
        "#Wiliam Santiago Sierra Guemez\n",
        "import math \n",
        "def arregloEvaluacion(n):\n",
        "  aevaluaciones = [fx(a+i*h) for i in range(n+1)]\n",
        "  return aevaluaciones\n",
        "def fx(x):\n",
        "  return 3*(x**2)\n",
        "\n",
        "print(\"---Método trapecio---\")\n",
        "print(\" \")\n",
        "a=int(input(\"Ingrese el valor de a: \"))   \n",
        "b=int(input(\"Ingrese el valor de b: \"))\n",
        "n=int(input(\"Ingrese el valor de n: \"))\n",
        "h=float(input(\"Ingrese el valor de h: \"))\n",
        "\n",
        "#valores que se usaron en el ejemplo\n",
        "# a=0, b=2, n=20, h=0.1\n",
        "\n",
        "afxi = arregloEvaluacion(n)\n",
        "sumap = sum( [afxi[i] for i in range(1,n)])\n",
        "resultado =(h/2) * (afxi[0] + 2*sumap+afxi[n])\n",
        "print(\" \")\n",
        "print(\"El resultado es:\",resultado)"
      ],
      "execution_count": 4,
      "outputs": [
        {
          "output_type": "stream",
          "text": [
            "---Método trapecio---\n",
            " \n",
            "Ingrese el valor de a: 0\n",
            "Ingrese el valor de b: 2\n",
            "Ingrese el valor de n: 20\n",
            "Ingrese el valor de h: 0.1\n",
            " \n",
            "El resultado es: 8.010000000000002\n"
          ],
          "name": "stdout"
        }
      ]
    }
  ]
}