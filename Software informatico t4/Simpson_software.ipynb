{
  "nbformat": 4,
  "nbformat_minor": 0,
  "metadata": {
    "colab": {
      "name": "Simpson software",
      "provenance": [],
      "collapsed_sections": []
    },
    "kernelspec": {
      "name": "python3",
      "display_name": "Python 3"
    },
    "language_info": {
      "name": "python"
    }
  },
  "cells": [
    {
      "cell_type": "code",
      "metadata": {
        "colab": {
          "base_uri": "https://localhost:8080/"
        },
        "id": "CGYjs-DsOgUK",
        "outputId": "7f3604a2-83d2-45ac-cdb2-70cd73d55e54"
      },
      "source": [
        "#Wiliam Santiago Sierra Guemez\n",
        "import math \n",
        "def fx(x):\n",
        "  return 3*(x**2)\n",
        "\n",
        "def arregloEvaluacion(n):\n",
        "  aevaluaciones = [fx(a+i*h) for i in range(n+1)]\n",
        "  return aevaluaciones\n",
        "\n",
        "print(\"---Método simpson---\")\n",
        "\n",
        "a=int(input(\"Ingrese el valor de a: \"))\n",
        "b=int(input(\"Ingrese el valor de b: \"))\n",
        "n=int(input(\"Ingrese el valor de n: \"))\n",
        "h=float(input(\"Ingrese el valor de h: \"))\n",
        "\n",
        "afxi = arregloEvaluacion(n)\n",
        "sumador = afxi[0] + afxi[n]\n",
        "sumapar=0\n",
        "sumaimpar=0\n",
        "for i in range(n):\n",
        "  if i % 2 ==0:\n",
        "    sumapar += afxi[i]\n",
        "  else:\n",
        "    sumaimpar += afxi[i]\n",
        "\n",
        "sumapar *=2\n",
        "sumaimpar *=4\n",
        "\n",
        "sumador = sumador + sumapar + sumaimpar\n",
        "resultado = (h/3) * sumador \n",
        "print(\" \")\n",
        "print(\"El resultado es:\",resultado)"
      ],
      "execution_count": null,
      "outputs": [
        {
          "output_type": "stream",
          "text": [
            "---Método simpson---\n",
            "Ingrese el valor de a: 0\n",
            "Ingrese el valor de b: 2\n",
            "Ingrese el valor de n: 20\n",
            "Ingrese el valor de h: 0.1\n",
            " \n",
            "El resultado es: 8.0\n"
          ],
          "name": "stdout"
        }
      ]
    }
  ]
}